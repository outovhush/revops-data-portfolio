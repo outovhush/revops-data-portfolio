{
 "cells": [
  {
   "cell_type": "markdown",
   "id": "39c3c2b5-ed0f-4be1-8eb0-3488e4a0323e",
   "metadata": {},
   "source": [
    "#### CRM raw 2023 deal dataset exploration\n",
    "\n",
    "A deal hear represents a CRM entity for one-off product sale to a customer rather than a subscription sale. Deals follow a straightforward methodology, a new deal is created when new sales opportunity is identified; any deal will be closed as won or lost over a period of time called the sales cycle.  \n",
    "\n",
    "Deals are associated with customer accounts aka companies; this should be one (company) to (many) deals association. Few attributes of companies are present in the deal dataset. Deals are devided into first sale to a new customer and the repetead or 2nd+ sales; first deals are as well attributed to the particular sales channel recorded in the Deal_source variable. We presume that 1st deals are in 1-1 relationship to their customer companies, more exacttly each company having 1 (or 0) 1st deals and each first deal is associated with one and only one company.  \n",
    "\n",
    "As the case with real life data there are number of inconsistencies and errors in the dataset, let it be discovered it we move on with the exploration. "
   ]
  },
  {
   "cell_type": "code",
   "execution_count": 163,
   "id": "a0de6029-6b4f-410d-bb19-877d267d10bc",
   "metadata": {
    "tags": []
   },
   "outputs": [],
   "source": [
    "import pandas as pd\n",
    "import numpy as np\n",
    "import seaborn as sns\n",
    "import matplotlib.pyplot as plt\n",
    "\n",
    "%matplotlib inline"
   ]
  },
  {
   "cell_type": "code",
   "execution_count": 164,
   "id": "ef8cd7c9-b300-48dc-aaf1-8ab3399b73e4",
   "metadata": {
    "tags": []
   },
   "outputs": [],
   "source": [
    "# file2read = '/Users/andrew/Documents/2023 JUPYTER Notebook/swag42 notebooks/\\\n",
    "# data/hubspot-crm-exports-deals-all-pieplienes-export-v-20240131-(excl 2 Niall prop deals.csv'\n",
    "\n",
    "file2read = '/Users/andrew/Documents/Revops data portfolio_git/data/2023 raw deal dataset.csv'\n",
    "\n",
    "df = pd.read_csv(file2read) #, index_col = 'Record ID')"
   ]
  },
  {
   "cell_type": "code",
   "execution_count": 97,
   "id": "843ba8d2-c396-4543-ae82-15f0cafbedfe",
   "metadata": {
    "tags": []
   },
   "outputs": [
    {
     "data": {
      "text/html": [
       "<div>\n",
       "<style scoped>\n",
       "    .dataframe tbody tr th:only-of-type {\n",
       "        vertical-align: middle;\n",
       "    }\n",
       "\n",
       "    .dataframe tbody tr th {\n",
       "        vertical-align: top;\n",
       "    }\n",
       "\n",
       "    .dataframe thead th {\n",
       "        text-align: right;\n",
       "    }\n",
       "</style>\n",
       "<table border=\"1\" class=\"dataframe\">\n",
       "  <thead>\n",
       "    <tr style=\"text-align: right;\">\n",
       "      <th></th>\n",
       "      <th>Unnamed: 0</th>\n",
       "      <th>Record_ID</th>\n",
       "      <th>Deal_Name</th>\n",
       "      <th>Deal_Stage</th>\n",
       "      <th>Close_Date</th>\n",
       "      <th>Associated_Company</th>\n",
       "      <th>int_Related_company_HC</th>\n",
       "      <th>int_Related_company_Industry</th>\n",
       "      <th>Pipeline</th>\n",
       "      <th>Amount_in_company_currency</th>\n",
       "      <th>Create_Date</th>\n",
       "      <th>Deal_source</th>\n",
       "      <th>Associated_Company_IDs</th>\n",
       "      <th>Associated_Contact_IDs</th>\n",
       "      <th>Deal_owner</th>\n",
       "    </tr>\n",
       "  </thead>\n",
       "  <tbody>\n",
       "    <tr>\n",
       "      <th>0</th>\n",
       "      <td>0</td>\n",
       "      <td>10628599778</td>\n",
       "      <td>Justin Joy / Eventex - Darina</td>\n",
       "      <td>Design/Estimation</td>\n",
       "      <td>2024-02-29 18:20</td>\n",
       "      <td>Justin Joy</td>\n",
       "      <td>NaN</td>\n",
       "      <td>NaN</td>\n",
       "      <td>Customer Success</td>\n",
       "      <td>5000.00</td>\n",
       "      <td>2024-01-25 18:21</td>\n",
       "      <td>Existing customer</td>\n",
       "      <td>9436391145</td>\n",
       "      <td>2448301</td>\n",
       "      <td>Darina</td>\n",
       "    </tr>\n",
       "    <tr>\n",
       "      <th>1</th>\n",
       "      <td>1</td>\n",
       "      <td>10186696421</td>\n",
       "      <td>N1Affiliates - ICE Julia</td>\n",
       "      <td>Closed won</td>\n",
       "      <td>2024-01-04 11:10</td>\n",
       "      <td>N1Affiliates</td>\n",
       "      <td>NaN</td>\n",
       "      <td>NaN</td>\n",
       "      <td>Customer Success</td>\n",
       "      <td>8000.00</td>\n",
       "      <td>2023-12-18 13:14</td>\n",
       "      <td>Field/Offline event</td>\n",
       "      <td>9028271081</td>\n",
       "      <td>2234451;2294602</td>\n",
       "      <td>Julia</td>\n",
       "    </tr>\n",
       "    <tr>\n",
       "      <th>2</th>\n",
       "      <td>2</td>\n",
       "      <td>9216442856</td>\n",
       "      <td>Hieronymusj - New Deal</td>\n",
       "      <td>Closed won</td>\n",
       "      <td>2023-10-04 11:13</td>\n",
       "      <td>Hieronymusj</td>\n",
       "      <td>2.0</td>\n",
       "      <td>ARTS_AND_CRAFTS</td>\n",
       "      <td>Account Exec</td>\n",
       "      <td>1764.00</td>\n",
       "      <td>2023-10-04 11:13</td>\n",
       "      <td>Inbound</td>\n",
       "      <td>8010401265</td>\n",
       "      <td>1084851</td>\n",
       "      <td>Mads</td>\n",
       "    </tr>\n",
       "    <tr>\n",
       "      <th>3</th>\n",
       "      <td>3</td>\n",
       "      <td>7806147518</td>\n",
       "      <td>GDCY-lanyards-Alena</td>\n",
       "      <td>Closed won</td>\n",
       "      <td>2023-06-13 10:32</td>\n",
       "      <td>Game Dev Cyprus</td>\n",
       "      <td>3.0</td>\n",
       "      <td>NaN</td>\n",
       "      <td>Account Exec</td>\n",
       "      <td>1302.48</td>\n",
       "      <td>2023-06-11 09:24</td>\n",
       "      <td>Existing customer</td>\n",
       "      <td>6944613854</td>\n",
       "      <td>2009</td>\n",
       "      <td>Alena</td>\n",
       "    </tr>\n",
       "    <tr>\n",
       "      <th>4</th>\n",
       "      <td>4</td>\n",
       "      <td>7318563518</td>\n",
       "      <td>GDCY-ланьярды 1000шт-Алена</td>\n",
       "      <td>Closed won</td>\n",
       "      <td>2023-05-08 15:11</td>\n",
       "      <td>Game Dev Cyprus</td>\n",
       "      <td>3.0</td>\n",
       "      <td>NaN</td>\n",
       "      <td>Account Exec</td>\n",
       "      <td>675.00</td>\n",
       "      <td>2023-05-02 09:54</td>\n",
       "      <td>Existing customer</td>\n",
       "      <td>6944613854</td>\n",
       "      <td>2009</td>\n",
       "      <td>Alena</td>\n",
       "    </tr>\n",
       "  </tbody>\n",
       "</table>\n",
       "</div>"
      ],
      "text/plain": [
       "   Unnamed: 0    Record_ID                      Deal_Name         Deal_Stage   \n",
       "0           0  10628599778  Justin Joy / Eventex - Darina  Design/Estimation  \\\n",
       "1           1  10186696421       N1Affiliates - ICE Julia         Closed won   \n",
       "2           2   9216442856         Hieronymusj - New Deal         Closed won   \n",
       "3           3   7806147518            GDCY-lanyards-Alena         Closed won   \n",
       "4           4   7318563518     GDCY-ланьярды 1000шт-Алена         Closed won   \n",
       "\n",
       "         Close_Date Associated_Company  int_Related_company_HC   \n",
       "0  2024-02-29 18:20         Justin Joy                     NaN  \\\n",
       "1  2024-01-04 11:10       N1Affiliates                     NaN   \n",
       "2  2023-10-04 11:13        Hieronymusj                     2.0   \n",
       "3  2023-06-13 10:32    Game Dev Cyprus                     3.0   \n",
       "4  2023-05-08 15:11    Game Dev Cyprus                     3.0   \n",
       "\n",
       "  int_Related_company_Industry          Pipeline  Amount_in_company_currency   \n",
       "0                          NaN  Customer Success                     5000.00  \\\n",
       "1                          NaN  Customer Success                     8000.00   \n",
       "2              ARTS_AND_CRAFTS      Account Exec                     1764.00   \n",
       "3                          NaN      Account Exec                     1302.48   \n",
       "4                          NaN      Account Exec                      675.00   \n",
       "\n",
       "        Create_Date          Deal_source Associated_Company_IDs   \n",
       "0  2024-01-25 18:21    Existing customer             9436391145  \\\n",
       "1  2023-12-18 13:14  Field/Offline event             9028271081   \n",
       "2  2023-10-04 11:13              Inbound             8010401265   \n",
       "3  2023-06-11 09:24    Existing customer             6944613854   \n",
       "4  2023-05-02 09:54    Existing customer             6944613854   \n",
       "\n",
       "  Associated_Contact_IDs Deal_owner  \n",
       "0                2448301     Darina  \n",
       "1        2234451;2294602      Julia  \n",
       "2                1084851       Mads  \n",
       "3                   2009      Alena  \n",
       "4                   2009      Alena  "
      ]
     },
     "execution_count": 97,
     "metadata": {},
     "output_type": "execute_result"
    }
   ],
   "source": [
    "df.head()"
   ]
  },
  {
   "cell_type": "markdown",
   "id": "48a1f435-2b97-4a94-b7ee-d7fbb850e5f1",
   "metadata": {},
   "source": [
    "____Pre-processing____"
   ]
  },
  {
   "cell_type": "code",
   "execution_count": 147,
   "id": "62c1eed0-e85c-46e5-8211-1921b9cb9d1f",
   "metadata": {
    "tags": []
   },
   "outputs": [],
   "source": [
    "#column names for conv\n",
    "df.columns = df.columns.str.replace(' ', '_')"
   ]
  },
  {
   "cell_type": "code",
   "execution_count": 134,
   "id": "fd260890-5a37-439a-9d9b-29e6710694e8",
   "metadata": {
    "tags": []
   },
   "outputs": [
    {
     "name": "stdout",
     "output_type": "stream",
     "text": [
      "<class 'pandas.core.frame.DataFrame'>\n",
      "RangeIndex: 934 entries, 0 to 933\n",
      "Data columns (total 18 columns):\n",
      " #   Column                        Non-Null Count  Dtype         \n",
      "---  ------                        --------------  -----         \n",
      " 0   Unnamed:_0                    934 non-null    int64         \n",
      " 1   Record_ID                     934 non-null    int64         \n",
      " 2   Deal_Name                     934 non-null    object        \n",
      " 3   Deal_Stage                    934 non-null    object        \n",
      " 4   Close_Date                    934 non-null    datetime64[ns]\n",
      " 5   Associated_Company            934 non-null    object        \n",
      " 6   int_Related_company_HC        932 non-null    float64       \n",
      " 7   int_Related_company_Industry  757 non-null    object        \n",
      " 8   Pipeline                      934 non-null    object        \n",
      " 9   Amount_in_company_currency    934 non-null    float64       \n",
      " 10  Create_Date                   934 non-null    datetime64[ns]\n",
      " 11  Deal_source                   934 non-null    object        \n",
      " 12  Associated_Company_IDs        934 non-null    object        \n",
      " 13  Associated_Contact_IDs        930 non-null    object        \n",
      " 14  Deal_owner                    929 non-null    object        \n",
      " 15  Split_Associated_Contact_IDs  930 non-null    object        \n",
      " 16  Split_Associated_Company_IDs  934 non-null    object        \n",
      " 17  Ass_Company_ID_1st            934 non-null    object        \n",
      "dtypes: datetime64[ns](2), float64(2), int64(2), object(12)\n",
      "memory usage: 131.5+ KB\n"
     ]
    }
   ],
   "source": [
    "#df.head()\n",
    "df.info()"
   ]
  },
  {
   "cell_type": "code",
   "execution_count": 229,
   "id": "6a6b9d3f-f126-42ce-b827-d16ea0cd8eb2",
   "metadata": {
    "tags": []
   },
   "outputs": [],
   "source": [
    "#convert dates column into date types\n",
    "df[['Create_Date', 'Close_Date']] = df[['Create_Date', 'Close_Date']]\\\n",
    "                                     .apply(pd.to_datetime)"
   ]
  },
  {
   "cell_type": "code",
   "execution_count": 230,
   "id": "c52e578e-5984-4974-83a6-19fc27ff5c22",
   "metadata": {
    "tags": []
   },
   "outputs": [
    {
     "data": {
      "text/plain": [
       "Unnamed: 0                        0\n",
       "Record_ID                         0\n",
       "Deal_Name                         0\n",
       "Deal_Stage                        0\n",
       "Close_Date                        0\n",
       "Associated_Company                0\n",
       "int_Related_company_HC            2\n",
       "int_Related_company_Industry    177\n",
       "Pipeline                          0\n",
       "Amount_in_company_currency        0\n",
       "Create_Date                       0\n",
       "Deal_source                       0\n",
       "Associated_Company_IDs            0\n",
       "Associated_Contact_IDs            4\n",
       "Deal_owner                        5\n",
       "dtype: int64"
      ]
     },
     "execution_count": 230,
     "metadata": {},
     "output_type": "execute_result"
    }
   ],
   "source": [
    "#checking for nulls\n",
    "df.isnull().sum()"
   ]
  },
  {
   "cell_type": "code",
   "execution_count": 231,
   "id": "d9f7285e-f703-4684-876e-fa20cf1b17d4",
   "metadata": {
    "tags": []
   },
   "outputs": [],
   "source": [
    "#split ID's stirngs into lists with dtype = string\n",
    "df['Split_Associated_Contact_IDs'] = df['Associated_Contact_IDs'].str.split(\";\")\n",
    "df['Split_Associated_Company_IDs'] = df['Associated_Company_IDs'].str.split(\";\")"
   ]
  },
  {
   "cell_type": "code",
   "execution_count": 233,
   "id": "2c12315d-974a-4e01-bd44-e8af1d11d7fa",
   "metadata": {
    "tags": []
   },
   "outputs": [
    {
     "data": {
      "text/html": [
       "<div>\n",
       "<style scoped>\n",
       "    .dataframe tbody tr th:only-of-type {\n",
       "        vertical-align: middle;\n",
       "    }\n",
       "\n",
       "    .dataframe tbody tr th {\n",
       "        vertical-align: top;\n",
       "    }\n",
       "\n",
       "    .dataframe thead th {\n",
       "        text-align: right;\n",
       "    }\n",
       "</style>\n",
       "<table border=\"1\" class=\"dataframe\">\n",
       "  <thead>\n",
       "    <tr style=\"text-align: right;\">\n",
       "      <th></th>\n",
       "      <th>Unnamed: 0</th>\n",
       "      <th>Record_ID</th>\n",
       "      <th>Deal_Name</th>\n",
       "      <th>Deal_Stage</th>\n",
       "      <th>Close_Date</th>\n",
       "      <th>Associated_Company</th>\n",
       "      <th>int_Related_company_HC</th>\n",
       "      <th>int_Related_company_Industry</th>\n",
       "      <th>Pipeline</th>\n",
       "      <th>Amount_in_company_currency</th>\n",
       "      <th>Create_Date</th>\n",
       "      <th>Deal_source</th>\n",
       "      <th>Associated_Company_IDs</th>\n",
       "      <th>Associated_Contact_IDs</th>\n",
       "      <th>Deal_owner</th>\n",
       "      <th>Split_Associated_Contact_IDs</th>\n",
       "      <th>Split_Associated_Company_IDs</th>\n",
       "    </tr>\n",
       "  </thead>\n",
       "  <tbody>\n",
       "    <tr>\n",
       "      <th>195</th>\n",
       "      <td>195</td>\n",
       "      <td>8298572990</td>\n",
       "      <td>s-t.global - NY 2024 - Nikita</td>\n",
       "      <td>Closed won</td>\n",
       "      <td>2023-11-28 14:33:00</td>\n",
       "      <td>Smartteam;s-t.global</td>\n",
       "      <td>50.00</td>\n",
       "      <td>INFORMATION_TECHNOLOGY_AND_SERVICES</td>\n",
       "      <td>Account Exec</td>\n",
       "      <td>29,493.43</td>\n",
       "      <td>2023-07-18 17:14:00</td>\n",
       "      <td>Inbound</td>\n",
       "      <td>9023975355;8054604736</td>\n",
       "      <td>1193251</td>\n",
       "      <td>Mykyta</td>\n",
       "      <td>[1193251]</td>\n",
       "      <td>[9023975355, 8054604736]</td>\n",
       "    </tr>\n",
       "    <tr>\n",
       "      <th>348</th>\n",
       "      <td>348</td>\n",
       "      <td>8461628618</td>\n",
       "      <td>Armenotech=Aps.Money - Merch - Nikita</td>\n",
       "      <td>Closed won</td>\n",
       "      <td>2023-10-12 19:48:00</td>\n",
       "      <td>Alfa Capital Holdings (Cyprus) Limited;Armenot...</td>\n",
       "      <td>120.00</td>\n",
       "      <td>INFORMATION_TECHNOLOGY_AND_SERVICES</td>\n",
       "      <td>Account Exec</td>\n",
       "      <td>4,084.02</td>\n",
       "      <td>2023-08-01 23:20:00</td>\n",
       "      <td>Outbound</td>\n",
       "      <td>7058460383;8111065818</td>\n",
       "      <td>42551</td>\n",
       "      <td>Mykyta</td>\n",
       "      <td>[42551]</td>\n",
       "      <td>[7058460383, 8111065818]</td>\n",
       "    </tr>\n",
       "    <tr>\n",
       "      <th>356</th>\n",
       "      <td>356</td>\n",
       "      <td>6892972737</td>\n",
       "      <td>Aventus Group - New Deal</td>\n",
       "      <td>Closed won</td>\n",
       "      <td>2023-05-26 17:24:00</td>\n",
       "      <td>Aventus IT;Aventus Group</td>\n",
       "      <td>122.00</td>\n",
       "      <td>LEGAL_SERVICES</td>\n",
       "      <td>Account Exec</td>\n",
       "      <td>7,728.00</td>\n",
       "      <td>2023-03-15 09:16:00</td>\n",
       "      <td>Inbound</td>\n",
       "      <td>6944655583;7115967952</td>\n",
       "      <td>68501</td>\n",
       "      <td>Nastasiia</td>\n",
       "      <td>[68501]</td>\n",
       "      <td>[6944655583, 7115967952]</td>\n",
       "    </tr>\n",
       "    <tr>\n",
       "      <th>549</th>\n",
       "      <td>549</td>\n",
       "      <td>8676604917</td>\n",
       "      <td>Optibet - Hoodie, bomber, t-shirt</td>\n",
       "      <td>Closed won</td>\n",
       "      <td>2023-10-17 14:43:00</td>\n",
       "      <td>Enlabs;Optibet</td>\n",
       "      <td>300.00</td>\n",
       "      <td>MARKET_RESEARCH</td>\n",
       "      <td>Account Exec</td>\n",
       "      <td>11,671.92</td>\n",
       "      <td>2023-08-24 09:21:00</td>\n",
       "      <td>Other</td>\n",
       "      <td>8300148415;8409566413</td>\n",
       "      <td>1730551</td>\n",
       "      <td>Mykyta</td>\n",
       "      <td>[1730551]</td>\n",
       "      <td>[8300148415, 8409566413]</td>\n",
       "    </tr>\n",
       "    <tr>\n",
       "      <th>749</th>\n",
       "      <td>749</td>\n",
       "      <td>8432151545</td>\n",
       "      <td>NY 2024 - Growe - Tanya</td>\n",
       "      <td>Closed won</td>\n",
       "      <td>2023-09-01 09:49:00</td>\n",
       "      <td>Pmi;Growe</td>\n",
       "      <td>700.00</td>\n",
       "      <td>COMPUTER_SOFTWARE</td>\n",
       "      <td>Account Exec</td>\n",
       "      <td>210,000.00</td>\n",
       "      <td>2023-07-29 12:20:00</td>\n",
       "      <td>Other</td>\n",
       "      <td>7906141662;8310276089</td>\n",
       "      <td>1741501;735751;1794751;1508951;966701</td>\n",
       "      <td>Tanya</td>\n",
       "      <td>[1741501, 735751, 1794751, 1508951, 966701]</td>\n",
       "      <td>[7906141662, 8310276089]</td>\n",
       "    </tr>\n",
       "  </tbody>\n",
       "</table>\n",
       "</div>"
      ],
      "text/plain": [
       "     Unnamed: 0   Record_ID                              Deal_Name   \n",
       "195         195  8298572990          s-t.global - NY 2024 - Nikita  \\\n",
       "348         348  8461628618  Armenotech=Aps.Money - Merch - Nikita   \n",
       "356         356  6892972737               Aventus Group - New Deal   \n",
       "549         549  8676604917     Optibet - Hoodie, bomber, t-shirt    \n",
       "749         749  8432151545                NY 2024 - Growe - Tanya   \n",
       "\n",
       "     Deal_Stage          Close_Date   \n",
       "195  Closed won 2023-11-28 14:33:00  \\\n",
       "348  Closed won 2023-10-12 19:48:00   \n",
       "356  Closed won 2023-05-26 17:24:00   \n",
       "549  Closed won 2023-10-17 14:43:00   \n",
       "749  Closed won 2023-09-01 09:49:00   \n",
       "\n",
       "                                    Associated_Company   \n",
       "195                               Smartteam;s-t.global  \\\n",
       "348  Alfa Capital Holdings (Cyprus) Limited;Armenot...   \n",
       "356                           Aventus IT;Aventus Group   \n",
       "549                                     Enlabs;Optibet   \n",
       "749                                          Pmi;Growe   \n",
       "\n",
       "     int_Related_company_HC         int_Related_company_Industry   \n",
       "195                   50.00  INFORMATION_TECHNOLOGY_AND_SERVICES  \\\n",
       "348                  120.00  INFORMATION_TECHNOLOGY_AND_SERVICES   \n",
       "356                  122.00                       LEGAL_SERVICES   \n",
       "549                  300.00                      MARKET_RESEARCH   \n",
       "749                  700.00                    COMPUTER_SOFTWARE   \n",
       "\n",
       "         Pipeline  Amount_in_company_currency         Create_Date Deal_source   \n",
       "195  Account Exec                   29,493.43 2023-07-18 17:14:00     Inbound  \\\n",
       "348  Account Exec                    4,084.02 2023-08-01 23:20:00    Outbound   \n",
       "356  Account Exec                    7,728.00 2023-03-15 09:16:00     Inbound   \n",
       "549  Account Exec                   11,671.92 2023-08-24 09:21:00       Other   \n",
       "749  Account Exec                  210,000.00 2023-07-29 12:20:00       Other   \n",
       "\n",
       "    Associated_Company_IDs                 Associated_Contact_IDs Deal_owner   \n",
       "195  9023975355;8054604736                                1193251     Mykyta  \\\n",
       "348  7058460383;8111065818                                  42551     Mykyta   \n",
       "356  6944655583;7115967952                                  68501  Nastasiia   \n",
       "549  8300148415;8409566413                                1730551     Mykyta   \n",
       "749  7906141662;8310276089  1741501;735751;1794751;1508951;966701      Tanya   \n",
       "\n",
       "                    Split_Associated_Contact_IDs Split_Associated_Company_IDs  \n",
       "195                                    [1193251]     [9023975355, 8054604736]  \n",
       "348                                      [42551]     [7058460383, 8111065818]  \n",
       "356                                      [68501]     [6944655583, 7115967952]  \n",
       "549                                    [1730551]     [8300148415, 8409566413]  \n",
       "749  [1741501, 735751, 1794751, 1508951, 966701]     [7906141662, 8310276089]  "
      ]
     },
     "execution_count": 233,
     "metadata": {},
     "output_type": "execute_result"
    }
   ],
   "source": [
    "#check where a deal is associated with 1+ companies which in fact is an incosistency \n",
    "df[ df.Split_Associated_Company_IDs.apply(lambda x: len(x)) > 1]"
   ]
  },
  {
   "cell_type": "code",
   "execution_count": 234,
   "id": "4b1bb697-4687-4235-b9b1-ebe8b9a56ce2",
   "metadata": {
    "tags": []
   },
   "outputs": [],
   "source": [
    "#for simplicity get the first company ID into the add column\n",
    "df['Ass_Company_ID_1st'] = df.Split_Associated_Company_IDs.apply(lambda x: x[0])"
   ]
  },
  {
   "cell_type": "code",
   "execution_count": 235,
   "id": "3838b118-aee7-4a53-9a4a-2c935917d1f0",
   "metadata": {
    "tags": []
   },
   "outputs": [
    {
     "data": {
      "text/plain": [
       "Index(['Unnamed: 0', 'Record_ID', 'Deal_Name', 'Deal_Stage', 'Close_Date',\n",
       "       'Associated_Company', 'int_Related_company_HC',\n",
       "       'int_Related_company_Industry', 'Pipeline',\n",
       "       'Amount_in_company_currency', 'Create_Date', 'Deal_source',\n",
       "       'Associated_Company_IDs', 'Associated_Contact_IDs', 'Deal_owner',\n",
       "       'Split_Associated_Contact_IDs', 'Split_Associated_Company_IDs',\n",
       "       'Ass_Company_ID_1st'],\n",
       "      dtype='object')"
      ]
     },
     "execution_count": 235,
     "metadata": {},
     "output_type": "execute_result"
    }
   ],
   "source": [
    "df.columns"
   ]
  },
  {
   "cell_type": "code",
   "execution_count": 237,
   "id": "6e728e94-185a-4c46-ab83-6ee4254e6dce",
   "metadata": {
    "tags": []
   },
   "outputs": [],
   "source": [
    "#Drop the columns we will not need further on\n",
    "\n",
    "col2drop= [ \n",
    "        #'Record_ID', \n",
    "       'Deal_Name', \n",
    "        #'Deal_Stage', 'Close_Date', 'Deal_owner',\n",
    "        #'Associated_Company', 'int_Related_company_HC', 'Pipeline',\n",
    "        #'Amount_in_company_currency', 'Create_Date', 'Deal_source',\n",
    "        #'Associated_Contact', \n",
    "       'Associated_Company_IDs',\n",
    "       'Associated_Contact_IDs', 'Split_Associated_Contact_IDs',\n",
    "       'Split_Associated_Company_IDs', \n",
    "        #'Ass_Company_ID_1st'\n",
    "        ]\n",
    "\n",
    "deals = df.drop(col2drop, axis = 1)\\\n",
    "                                    .copy()"
   ]
  },
  {
   "cell_type": "code",
   "execution_count": 238,
   "id": "c768cf5b-92b3-4abd-9770-adfd2dd62b1e",
   "metadata": {
    "tags": []
   },
   "outputs": [
    {
     "name": "stdout",
     "output_type": "stream",
     "text": [
      "<class 'pandas.core.frame.DataFrame'>\n",
      "RangeIndex: 934 entries, 0 to 933\n",
      "Data columns (total 13 columns):\n",
      " #   Column                        Non-Null Count  Dtype         \n",
      "---  ------                        --------------  -----         \n",
      " 0   Unnamed: 0                    934 non-null    int64         \n",
      " 1   Record_ID                     934 non-null    int64         \n",
      " 2   Deal_Stage                    934 non-null    object        \n",
      " 3   Close_Date                    934 non-null    datetime64[ns]\n",
      " 4   Associated_Company            934 non-null    object        \n",
      " 5   int_Related_company_HC        932 non-null    float64       \n",
      " 6   int_Related_company_Industry  757 non-null    object        \n",
      " 7   Pipeline                      934 non-null    object        \n",
      " 8   Amount_in_company_currency    934 non-null    float64       \n",
      " 9   Create_Date                   934 non-null    datetime64[ns]\n",
      " 10  Deal_source                   934 non-null    object        \n",
      " 11  Deal_owner                    929 non-null    object        \n",
      " 12  Ass_Company_ID_1st            934 non-null    object        \n",
      "dtypes: datetime64[ns](2), float64(2), int64(2), object(7)\n",
      "memory usage: 95.0+ KB\n"
     ]
    }
   ],
   "source": [
    "#deals.shape\n",
    "#deals.isnull().sum()\n",
    "#deals.query('Deal_owner == \"Karina Rudenko\"')\n",
    "#deals.Deal_owner.value_counts()\n",
    "#deals.Deal_source.value_counts()\n",
    "# deals[ deals.Create_Date < pd.to_datetime('2024-01-01') ]\n",
    "# deals.query('Create_Date < \"2024-01-01\"')\n",
    "deals.info()"
   ]
  },
  {
   "cell_type": "code",
   "execution_count": 239,
   "id": "c00dd408-099f-431f-bd69-d4c529cddfef",
   "metadata": {
    "tags": []
   },
   "outputs": [],
   "source": [
    "#reinstate Mads for 5 no owner deals\n",
    "deals.Deal_owner = deals.Deal_owner.fillna('Mads')"
   ]
  },
  {
   "cell_type": "markdown",
   "id": "4dba4d9d-aff9-4095-b10a-69e6a63b00af",
   "metadata": {},
   "source": [
    "#### Exploring the data"
   ]
  },
  {
   "cell_type": "code",
   "execution_count": 240,
   "id": "8b379ba4-4873-4835-81fd-abe10047e4da",
   "metadata": {
    "tags": []
   },
   "outputs": [],
   "source": [
    "#get a slice for 1st deals created within 2023\n",
    "first_deals = deals.query('Deal_source != \"Existing customer\" and Create_Date < \"2024-01-01\" and Pipeline != \"Customer Success\"')"
   ]
  },
  {
   "cell_type": "code",
   "execution_count": 241,
   "id": "f8a7a405-2100-44a2-a347-1cbd7e6c1e31",
   "metadata": {
    "tags": []
   },
   "outputs": [
    {
     "data": {
      "text/plain": [
       "(451, 13)"
      ]
     },
     "execution_count": 241,
     "metadata": {},
     "output_type": "execute_result"
    }
   ],
   "source": [
    "first_deals.shape"
   ]
  },
  {
   "cell_type": "markdown",
   "id": "294ece91-e191-447b-b984-665f85122320",
   "metadata": {
    "tags": []
   },
   "source": [
    "__Taking a look at size distribution for 1st deals and exploring relationships between deal and company sizes__"
   ]
  },
  {
   "cell_type": "code",
   "execution_count": 242,
   "id": "07c6e9dd-31aa-49f4-8cf9-e01adf37c9fe",
   "metadata": {
    "tags": []
   },
   "outputs": [
    {
     "data": {
      "text/plain": [
       "count       451.00\n",
       "mean      8,756.52\n",
       "std      18,746.64\n",
       "min           0.00\n",
       "25%       2,000.00\n",
       "50%       4,365.36\n",
       "75%       8,241.86\n",
       "max     224,390.17\n",
       "Name: Amount_in_company_currency, dtype: float64"
      ]
     },
     "execution_count": 242,
     "metadata": {},
     "output_type": "execute_result"
    }
   ],
   "source": [
    "#check data for deal amounts, it's skewed\n",
    "first_deals.Amount_in_company_currency.describe()"
   ]
  },
  {
   "cell_type": "code",
   "execution_count": 243,
   "id": "c6c8bb24-81d6-4a00-8caf-762ec01e5ec3",
   "metadata": {
    "tags": []
   },
   "outputs": [
    {
     "data": {
      "image/png": "[encoded data removed]",
      "text/plain": [
       "<Figure size 640x480 with 1 Axes>"
      ]
     },
     "metadata": {},
     "output_type": "display_data"
    }
   ],
   "source": [
    "#fastplot 1st deal amounts hist, casting out outliers\n",
    "maxDeal =  first_deals.Amount_in_company_currency.quantile(0.96)\n",
    "#maxDeal = first_deals.Amount_in_company_currency.max()\n",
    "\n",
    "binz = np.arange(0, maxDeal + 1500, 1500, dtype = np.int64)\n",
    "\n",
    "ax = first_deals.Amount_in_company_currency.\\\n",
    "                    plot(kind= 'hist', bins=  binz, grid = True, alpha = .7)\n",
    "\n",
    "plt.title('1st deal size hist (maxDeal = {})'.format(round(maxDeal)))\n",
    "plt.xticks(binz, fontsize= 6, rotation = 45)\n",
    "ax.bar_label(ax.containers[0], fontsize= 7);"
   ]
  },
  {
   "cell_type": "code",
   "execution_count": 260,
   "id": "95adbd8b-d042-4ff6-ade7-432e209b7ad8",
   "metadata": {
    "tags": []
   },
   "outputs": [
    {
     "data": {
      "image/png": "[encoded data removed]",
      "text/plain": [
       "<Figure size 640x480 with 1 Axes>"
      ]
     },
     "metadata": {},
     "output_type": "display_data"
    }
   ],
   "source": [
    "#check N of 1st deals  per Company sizes, work with custom bins  \n",
    "ax = pd.cut(first_deals.int_Related_company_HC, bins = [0, 201, 901, float('inf')], right = False)\\\n",
    "                        .value_counts()\\\n",
    "                        .plot(kind = 'bar', grid = True)\n",
    "\n",
    "plt.title('1st deals count by the associated company headcount')\n",
    "plt.xticks(rotation = 0)\n",
    "ax.bar_label(ax.containers[0]);"
   ]
  },
  {
   "cell_type": "markdown",
   "id": "061d9bcf-a920-4e23-a591-6a846963a806",
   "metadata": {},
   "source": [
    "Custom bins here correspond to the company segmentaion by size (which is measured by headcounts) accepted in 2023"
   ]
  },
  {
   "cell_type": "markdown",
   "id": "336a3360-5278-4eb9-97a8-bb9be34c8495",
   "metadata": {
    "tags": []
   },
   "source": [
    "__What about deal created per industry?__"
   ]
  },
  {
   "cell_type": "code",
   "execution_count": 245,
   "id": "854ced00-3541-4f77-9e7a-acab7effdfbf",
   "metadata": {
    "tags": []
   },
   "outputs": [],
   "source": [
    "# first_deals.int_Related_company_Industry\\\n",
    "#                         .value_counts(dropna = False)"
   ]
  },
  {
   "cell_type": "code",
   "execution_count": 207,
   "id": "496fee10-66e7-4d3f-845b-4b354cf934d2",
   "metadata": {
    "tags": []
   },
   "outputs": [
    {
     "data": {
      "image/png": "[encoded data removed]",
      "text/plain": [
       "<Figure size 640x480 with 1 Axes>"
      ]
     },
     "metadata": {},
     "output_type": "display_data"
    }
   ],
   "source": [
    "#check company Indusrty distribution for 1st deals as created  \n",
    "ax = first_deals.int_Related_company_Industry\\\n",
    "                        .value_counts(dropna = False)\\\n",
    "                        .plot(kind = 'bar', grid = True)\n",
    "\n",
    "plt.title('1st deals created in 2023 by company industry')\n",
    "plt.xticks(rotation = 90, fontsize = 5)\n",
    "ax.bar_label(ax.containers[0], fontsize = 7);"
   ]
  },
  {
   "cell_type": "markdown",
   "id": "48a05e2e-1224-42ca-b354-dc173e0a1a66",
   "metadata": {
    "tags": []
   },
   "source": [
    "__Headcount frequencies and more details for Deal amount vs company HC__"
   ]
  },
  {
   "cell_type": "code",
   "execution_count": 208,
   "id": "48acef6f-1c0e-4a35-b69f-6bcd8065bb03",
   "metadata": {
    "tags": []
   },
   "outputs": [
    {
     "data": {
      "text/html": [
       "<div>\n",
       "<style scoped>\n",
       "    .dataframe tbody tr th:only-of-type {\n",
       "        vertical-align: middle;\n",
       "    }\n",
       "\n",
       "    .dataframe tbody tr th {\n",
       "        vertical-align: top;\n",
       "    }\n",
       "\n",
       "    .dataframe thead th {\n",
       "        text-align: right;\n",
       "    }\n",
       "</style>\n",
       "<table border=\"1\" class=\"dataframe\">\n",
       "  <thead>\n",
       "    <tr style=\"text-align: right;\">\n",
       "      <th></th>\n",
       "      <th>N_values</th>\n",
       "      <th>Percent</th>\n",
       "    </tr>\n",
       "    <tr>\n",
       "      <th>int_Related_company_HC</th>\n",
       "      <th></th>\n",
       "      <th></th>\n",
       "    </tr>\n",
       "  </thead>\n",
       "  <tbody>\n",
       "    <tr>\n",
       "      <th>50.00</th>\n",
       "      <td>49</td>\n",
       "      <td>10.9%</td>\n",
       "    </tr>\n",
       "    <tr>\n",
       "      <th>500.00</th>\n",
       "      <td>22</td>\n",
       "      <td>4.9%</td>\n",
       "    </tr>\n",
       "    <tr>\n",
       "      <th>200.00</th>\n",
       "      <td>18</td>\n",
       "      <td>4.0%</td>\n",
       "    </tr>\n",
       "    <tr>\n",
       "      <th>10.00</th>\n",
       "      <td>16</td>\n",
       "      <td>3.5%</td>\n",
       "    </tr>\n",
       "    <tr>\n",
       "      <th>201.00</th>\n",
       "      <td>13</td>\n",
       "      <td>2.9%</td>\n",
       "    </tr>\n",
       "    <tr>\n",
       "      <th>30.00</th>\n",
       "      <td>11</td>\n",
       "      <td>2.4%</td>\n",
       "    </tr>\n",
       "    <tr>\n",
       "      <th>1,000.00</th>\n",
       "      <td>11</td>\n",
       "      <td>2.4%</td>\n",
       "    </tr>\n",
       "    <tr>\n",
       "      <th>25.00</th>\n",
       "      <td>8</td>\n",
       "      <td>1.8%</td>\n",
       "    </tr>\n",
       "    <tr>\n",
       "      <th>100.00</th>\n",
       "      <td>8</td>\n",
       "      <td>1.8%</td>\n",
       "    </tr>\n",
       "    <tr>\n",
       "      <th>1,200.00</th>\n",
       "      <td>5</td>\n",
       "      <td>1.1%</td>\n",
       "    </tr>\n",
       "    <tr>\n",
       "      <th>2,000.00</th>\n",
       "      <td>5</td>\n",
       "      <td>1.1%</td>\n",
       "    </tr>\n",
       "    <tr>\n",
       "      <th>60.00</th>\n",
       "      <td>5</td>\n",
       "      <td>1.1%</td>\n",
       "    </tr>\n",
       "    <tr>\n",
       "      <th>70.00</th>\n",
       "      <td>5</td>\n",
       "      <td>1.1%</td>\n",
       "    </tr>\n",
       "    <tr>\n",
       "      <th>219.00</th>\n",
       "      <td>5</td>\n",
       "      <td>1.1%</td>\n",
       "    </tr>\n",
       "    <tr>\n",
       "      <th>120.00</th>\n",
       "      <td>5</td>\n",
       "      <td>1.1%</td>\n",
       "    </tr>\n",
       "  </tbody>\n",
       "</table>\n",
       "</div>"
      ],
      "text/plain": [
       "                        N_values Percent\n",
       "int_Related_company_HC                  \n",
       "50.00                         49   10.9%\n",
       "500.00                        22    4.9%\n",
       "200.00                        18    4.0%\n",
       "10.00                         16    3.5%\n",
       "201.00                        13    2.9%\n",
       "30.00                         11    2.4%\n",
       "1,000.00                      11    2.4%\n",
       "25.00                          8    1.8%\n",
       "100.00                         8    1.8%\n",
       "1,200.00                       5    1.1%\n",
       "2,000.00                       5    1.1%\n",
       "60.00                          5    1.1%\n",
       "70.00                          5    1.1%\n",
       "219.00                         5    1.1%\n",
       "120.00                         5    1.1%"
      ]
     },
     "execution_count": 208,
     "metadata": {},
     "output_type": "execute_result"
    }
   ],
   "source": [
    "#we assumed that 1st deals are 1-1 with companies, checking headcounts frequencies\n",
    "first_deals.groupby(['int_Related_company_HC'])\\\n",
    "  .agg( \n",
    "        N_values = ('Record_ID', 'count'),\n",
    "        Percent = ('Record_ID', lambda x: (100* x.count() / first_deals.shape[0]).round(1).astype('str') + '%')  \n",
    "      )\\\n",
    "                       .sort_values(['N_values'], ascending = False)\\\n",
    "                       .head(15)"
   ]
  },
  {
   "cell_type": "markdown",
   "id": "4decd24a-ac7b-42f2-b90e-d18dc9ca6d3d",
   "metadata": {},
   "source": [
    "As the company headcounts are approximate measures taken from sourcing process for the targeted accounts there are abnormal freaquencies for sharp numbers of like 50, 500, 200 etc "
   ]
  },
  {
   "cell_type": "code",
   "execution_count": 209,
   "id": "457cf6b2-4f94-4d98-ba33-ad43eb5edbdf",
   "metadata": {
    "tags": []
   },
   "outputs": [
    {
     "data": {
      "image/png": "[encoded data removed]",
      "text/plain": [
       "<Figure size 900x600 with 1 Axes>"
      ]
     },
     "metadata": {},
     "output_type": "display_data"
    }
   ],
   "source": [
    "#add more details into N new deals vs company HC chart, color code the deal source\n",
    "HC_upperbound: int = 2100 #for plot to fit\n",
    "\n",
    "deal_bins = np.arange(0, HC_upperbound + 100, 100)\n",
    "#deal_bins1 = np.sort( np.hstack((deal_bins, [210, 510, 1010])))\n",
    "\n",
    "plt.figure(figsize = (9,6))\n",
    "\n",
    "ax = sns.histplot(\n",
    "             data = first_deals, \n",
    "             x = 'int_Related_company_HC', \n",
    "             hue = \"Deal_source\",\n",
    "             bins= deal_bins,\n",
    "             #kind = 'kde',\n",
    "             #col = \"Deal_source\", \n",
    "             multiple = \"stack\"\n",
    "            )\n",
    "\n",
    "ax.set_xticks(deal_bins)\n",
    "ax.set_xticklabels(ax.get_xticks(), size = 7)\n",
    "ax.set_xticklabels(ax.get_xticks(), rotation= 45)\n",
    "ax.set_title('1st deal by Company HC - detailed')\n",
    "#ax.set_yticks(ticks=10, minor=True)\n",
    "\n",
    "ax.grid()\n",
    "plt.show()"
   ]
  },
  {
   "cell_type": "markdown",
   "id": "a85f6c36-a0ee-497b-8a8e-25593e534ef4",
   "metadata": {
    "tags": []
   },
   "source": [
    "Bu far the most deals were brough around by cusotmer sccounts up to 100 employees in size. Inbound and outbound are two major sources for new deals are more or less evenly distributed across the company sizes."
   ]
  },
  {
   "cell_type": "markdown",
   "id": "ba3b1db0-32f3-4f9f-9171-372951cb81c1",
   "metadata": {
    "tags": []
   },
   "source": [
    "__Take a look and cast out outliers for deal amount and company HC__"
   ]
  },
  {
   "cell_type": "code",
   "execution_count": 211,
   "id": "ce0f37d0-f301-4b02-907e-4bfe529d49f8",
   "metadata": {
    "tags": []
   },
   "outputs": [],
   "source": [
    "#slice data to rid of outliers\n",
    "\n",
    "#arbitrary values for testing\n",
    "SubSet_1 = ( first_deals.Amount_in_company_currency < 150000 ) & \\\n",
    "           ( first_deals.int_Related_company_HC < 2000 )\n",
    "\n",
    "#set outliers out 4% percentiles for deal amounts and company HCs\n",
    "DealAmount_upper = first_deals.Amount_in_company_currency.quantile(0.96)\n",
    "CoHC_upper = first_deals.int_Related_company_HC.quantile(0.96)\n",
    "\n",
    "SubSet_3 = ( first_deals.Amount_in_company_currency <= DealAmount_upper ) & \\\n",
    "           ( first_deals.int_Related_company_HC <= CoHC_upper )"
   ]
  },
  {
   "cell_type": "code",
   "execution_count": 212,
   "id": "822a2b37-6756-4414-9128-849069f5d3bb",
   "metadata": {
    "tags": []
   },
   "outputs": [],
   "source": [
    "# Deal amount outliers\n",
    "# first_deals[ first_deals.Amount_in_company_currency > DealAmount_upper  ]\\\n",
    "#              .sort_values(['Amount_in_company_currency'] , ascending = False)"
   ]
  },
  {
   "cell_type": "code",
   "execution_count": 213,
   "id": "f65624d7-417b-4c8b-9123-4d8b71bfc278",
   "metadata": {
    "tags": []
   },
   "outputs": [],
   "source": [
    "# company HeadCount outliers\n",
    "# first_deals[ first_deals.int_Related_company_HC > CoHC_upper  ]\\\n",
    "#             .sort_values(['int_Related_company_HC'] , ascending = False)"
   ]
  },
  {
   "cell_type": "markdown",
   "id": "97fc234e-2e92-49f9-a0e6-f8baf7204c62",
   "metadata": {},
   "source": [
    "__Explore dependency between deal amount and the associated company HC for each of the deal sources__"
   ]
  },
  {
   "cell_type": "code",
   "execution_count": 214,
   "id": "294d4e42-7386-4878-b04b-9c16f5f9d720",
   "metadata": {
    "tags": []
   },
   "outputs": [
    {
     "data": {
      "image/png": "[encoded data removed]",
      "text/plain": [
       "<Figure size 600x600 with 1 Axes>"
      ]
     },
     "metadata": {},
     "output_type": "display_data"
    }
   ],
   "source": [
    "#regplot with trend line for Outbound wo outliers\n",
    "plt.figure(figsize = (6,6))\n",
    "\n",
    "Outbound_1stDeals = first_deals[ SubSet_3 & \n",
    "                                (first_deals.Deal_source == 'Outbound')\n",
    "                               ]\n",
    "\n",
    "ax = sns.regplot(data = Outbound_1stDeals, \n",
    "                        y = 'Amount_in_company_currency', \n",
    "                        x = 'int_Related_company_HC',\n",
    "                        scatter = True,\n",
    "                        color = 'g'\n",
    "                        )\n",
    "ax.set_title( 'Outbound on {} deals'.format( Outbound_1stDeals.shape[0] ))\n",
    "\n",
    "plt.grid()"
   ]
  },
  {
   "cell_type": "code",
   "execution_count": 215,
   "id": "abeb14fd-ebd6-43d6-ace2-e28ac2e05279",
   "metadata": {
    "tags": []
   },
   "outputs": [
    {
     "data": {
      "image/png": "[encoded data removed]",
      "text/plain": [
       "<Figure size 600x600 with 1 Axes>"
      ]
     },
     "metadata": {},
     "output_type": "display_data"
    }
   ],
   "source": [
    "#regplot with trend line for Inbound - wo outliers\n",
    "plt.figure(figsize = (6,6))\n",
    "\n",
    "Inbound_1stDeals = first_deals[ SubSet_3 & \n",
    "                               (first_deals.Deal_source == 'Inbound') \n",
    "                              ]\n",
    "\n",
    "ax = sns.regplot(data = Inbound_1stDeals, \n",
    "              y = 'Amount_in_company_currency', \n",
    "              x = 'int_Related_company_HC', \n",
    "              scatter = True,\n",
    "              color = 'b'\n",
    "             )\n",
    "\n",
    "ax.set_title( 'Inbound on {} deals'.format( Inbound_1stDeals.shape[0] ))\n",
    "\n",
    "# plt.xscale('log')\n",
    "# plt.yscale('log')\n",
    "plt.grid()"
   ]
  },
  {
   "cell_type": "code",
   "execution_count": 216,
   "id": "0a800f9a-12d0-4631-83d4-9bce50523bf0",
   "metadata": {
    "tags": []
   },
   "outputs": [
    {
     "data": {
      "image/png": "[encoded data removed]",
      "text/plain": [
       "<Figure size 600x600 with 1 Axes>"
      ]
     },
     "metadata": {},
     "output_type": "display_data"
    }
   ],
   "source": [
    "#regplot with trend line for Inbound - wo Outliers\n",
    "plt.figure(figsize = (6,6))\n",
    "\n",
    "Field_1stDeals = first_deals[ SubSet_3 & \n",
    "                             (first_deals['Deal_source'] == 'Field/Offline event') \n",
    "                            ]\n",
    "\n",
    "ax = sns.regplot( data = Field_1stDeals, \n",
    "                  y = 'Amount_in_company_currency', \n",
    "                  x = 'int_Related_company_HC', \n",
    "                  scatter = True,\n",
    "                  color = 'r'\n",
    "                 )\n",
    "\n",
    "ax.set_title( 'Field/Offline event on {} deals'.format( Field_1stDeals.shape[0] ))\n",
    "\n",
    "plt.grid()"
   ]
  },
  {
   "cell_type": "markdown",
   "id": "0d9ba880-52d0-4a70-91b0-99b50ce05714",
   "metadata": {},
   "source": [
    "The slope of the LSRL line in the charts above (LSRL for Least Squared Regression Line) would represent correlation between 1st deal size and the related company size measured as the headcount. The graphs tell us there is some correlation for Inbound and none to even slight negative for Outbound and Field deals. If a larger account comes across the pipeline you could naturally expect a higher probability of getting a bigger sale in this business.\n",
    "\n",
    "Which posses a good question for further research, i.e. what and at which stage does it wrong with Outbound an Field deal channels? "
   ]
  },
  {
   "cell_type": "markdown",
   "id": "c0cac2fa-b028-4850-bd3e-6471e21ac559",
   "metadata": {
    "tags": []
   },
   "source": [
    "__Let us just calculate the correlations coefficients__"
   ]
  },
  {
   "cell_type": "code",
   "execution_count": 217,
   "id": "c7a94d70-4dac-4933-8450-a45c45191ee2",
   "metadata": {
    "tags": []
   },
   "outputs": [],
   "source": [
    "from scipy.stats import pearsonr\n",
    "\n",
    "#format float display\n",
    "pd.options.display.float_format = '{:,.2f}'.format"
   ]
  },
  {
   "cell_type": "code",
   "execution_count": 218,
   "id": "ce276041-24c3-45bd-a7ef-c2263fbbc008",
   "metadata": {
    "tags": []
   },
   "outputs": [
    {
     "data": {
      "text/html": [
       "<div>\n",
       "<style scoped>\n",
       "    .dataframe tbody tr th:only-of-type {\n",
       "        vertical-align: middle;\n",
       "    }\n",
       "\n",
       "    .dataframe tbody tr th {\n",
       "        vertical-align: top;\n",
       "    }\n",
       "\n",
       "    .dataframe thead th {\n",
       "        text-align: right;\n",
       "    }\n",
       "</style>\n",
       "<table border=\"1\" class=\"dataframe\">\n",
       "  <thead>\n",
       "    <tr style=\"text-align: right;\">\n",
       "      <th></th>\n",
       "      <th>Amount_in_company_currency</th>\n",
       "      <th>int_Related_company_HC</th>\n",
       "    </tr>\n",
       "  </thead>\n",
       "  <tbody>\n",
       "    <tr>\n",
       "      <th>Amount_in_company_currency</th>\n",
       "      <td>1.00</td>\n",
       "      <td>0.25</td>\n",
       "    </tr>\n",
       "    <tr>\n",
       "      <th>int_Related_company_HC</th>\n",
       "      <td>0.25</td>\n",
       "      <td>1.00</td>\n",
       "    </tr>\n",
       "  </tbody>\n",
       "</table>\n",
       "</div>"
      ],
      "text/plain": [
       "                            Amount_in_company_currency  int_Related_company_HC\n",
       "Amount_in_company_currency                        1.00                    0.25\n",
       "int_Related_company_HC                            0.25                    1.00"
      ]
     },
     "execution_count": 218,
     "metadata": {},
     "output_type": "execute_result"
    }
   ],
   "source": [
    "#a quick way\n",
    "first_deals[ SubSet_3 & \n",
    "            (first_deals.Deal_source == 'Inbound') \n",
    "           ]\\\n",
    "           [['Amount_in_company_currency', 'int_Related_company_HC']]\\\n",
    "            .corr()"
   ]
  },
  {
   "cell_type": "code",
   "execution_count": 219,
   "id": "887f3f2b-4099-465d-8300-907f259bc5a5",
   "metadata": {
    "tags": []
   },
   "outputs": [
    {
     "name": "stdout",
     "output_type": "stream",
     "text": [
      "Pearson corr excl outliers: 0.247 for Inbound deals on 160 deal values\n",
      "Pearson corr excl outliers: -0.149 for Other deals on 46 deal values\n",
      "Pearson corr excl outliers: -0.044 for Field/Offline event deals on 63 deal values\n",
      "Pearson corr excl outliers: -0.016 for Outbound deals on 145 deal values\n",
      "Pearson corr excl outliers: -0.057 for Partner referrals deals on 5 deal values\n"
     ]
    }
   ],
   "source": [
    "# calc correlations coeff for deals less outliers\n",
    "for d_source in first_deals.Deal_source.unique():\n",
    "    x = first_deals[ SubSet_3 & (first_deals['Deal_source'] == d_source) ]['int_Related_company_HC'] \n",
    "    y = first_deals[ SubSet_3 & (first_deals['Deal_source'] == d_source) ]['Amount_in_company_currency']\n",
    "    count = first_deals[ SubSet_3 & (first_deals['Deal_source'] == d_source)].shape[0]\n",
    "    \n",
    "    corr, _ = pearsonr(x, y)\n",
    "    \n",
    "    print(f'Pearson corr excl outliers: {corr:.3f} for {d_source} deals on {count} deal values')"
   ]
  },
  {
   "cell_type": "markdown",
   "id": "57978fc6-c25d-406a-8149-9db7d309b917",
   "metadata": {
    "tags": []
   },
   "source": [
    "Here we got exact numbers confirming the trend line slopes seen in the charts above "
   ]
  },
  {
   "cell_type": "code",
   "execution_count": 224,
   "id": "3bf87e8a-a487-4ddb-a6c0-c0ab5d6169d5",
   "metadata": {
    "tags": []
   },
   "outputs": [
    {
     "name": "stdout",
     "output_type": "stream",
     "text": [
      "Pearson corr All deals: 0.089 for Inbound deals on 169 deal values\n",
      "Pearson corr All deals: -0.054 for Other deals on 51 deal values\n",
      "Pearson corr All deals: 0.350 for Field/Offline event deals on 66 deal values\n",
      "Pearson corr All deals: -0.008 for Outbound deals on 160 deal values\n",
      "Pearson corr All deals: -0.057 for Partner referrals deals on 5 deal values\n"
     ]
    }
   ],
   "source": [
    "# Correlation is sensitive for outliers, just check out correlations for the original data before outliers removed\n",
    "for d_source in first_deals.Deal_source.unique():\n",
    "    x = first_deals[ first_deals.Deal_source  == d_source ]['int_Related_company_HC'] \n",
    "    y = first_deals[ first_deals.Deal_source == d_source ]['Amount_in_company_currency']\n",
    "    \n",
    "    count = first_deals[ first_deals.Deal_source == d_source ].shape[0]\n",
    "    \n",
    "    corr, _ = pearsonr(x, y)\n",
    "    print(f'Pearson corr All deals: {corr:.3f} for {d_source} deals on {count} deal values')"
   ]
  },
  {
   "cell_type": "markdown",
   "id": "ea712970-08c5-4711-927a-4f015b37805e",
   "metadata": {
    "tags": []
   },
   "source": [
    "Outliers totally mess our correlations up"
   ]
  },
  {
   "cell_type": "markdown",
   "id": "b9954e1b-222e-4930-9267-ac3c85ff20a4",
   "metadata": {},
   "source": [
    "__Check correlations between 2nd+ total deals and company HC__"
   ]
  },
  {
   "cell_type": "code",
   "execution_count": 248,
   "id": "6e208127-9541-4fed-91ff-34da7666baea",
   "metadata": {
    "tags": []
   },
   "outputs": [],
   "source": [
    "#get a slice for existing customer (or 2nd+) deals\n",
    "secondplus_deals = deals.query( 'Deal_source == \"Existing customer\" and Create_Date < \"2024-01-01\"') #[ deals['Deal_source'] == 'Existing customer' ]"
   ]
  },
  {
   "cell_type": "code",
   "execution_count": 253,
   "id": "2ddc859c-4101-4bb5-883a-77cb73a6362d",
   "metadata": {
    "tags": []
   },
   "outputs": [
    {
     "data": {
      "text/html": [
       "<div>\n",
       "<style scoped>\n",
       "    .dataframe tbody tr th:only-of-type {\n",
       "        vertical-align: middle;\n",
       "    }\n",
       "\n",
       "    .dataframe tbody tr th {\n",
       "        vertical-align: top;\n",
       "    }\n",
       "\n",
       "    .dataframe thead tr th {\n",
       "        text-align: left;\n",
       "    }\n",
       "</style>\n",
       "<table border=\"1\" class=\"dataframe\">\n",
       "  <thead>\n",
       "    <tr>\n",
       "      <th></th>\n",
       "      <th>Ass_Company_ID_1st</th>\n",
       "      <th colspan=\"3\" halign=\"left\">Amount_in_company_currency</th>\n",
       "      <th>int_Related_company_HC</th>\n",
       "      <th>Associated_Company</th>\n",
       "    </tr>\n",
       "    <tr>\n",
       "      <th></th>\n",
       "      <th></th>\n",
       "      <th>sum</th>\n",
       "      <th>count</th>\n",
       "      <th>mean</th>\n",
       "      <th>&lt;lambda&gt;</th>\n",
       "      <th>&lt;lambda&gt;</th>\n",
       "    </tr>\n",
       "  </thead>\n",
       "  <tbody>\n",
       "    <tr>\n",
       "      <th>63</th>\n",
       "      <td>7000251093</td>\n",
       "      <td>617,138</td>\n",
       "      <td>10</td>\n",
       "      <td>61,714</td>\n",
       "      <td>5,000</td>\n",
       "      <td>Wargaming.net</td>\n",
       "    </tr>\n",
       "    <tr>\n",
       "      <th>70</th>\n",
       "      <td>7001605834</td>\n",
       "      <td>455,698</td>\n",
       "      <td>28</td>\n",
       "      <td>16,275</td>\n",
       "      <td>663</td>\n",
       "      <td>Exness_Cyprus</td>\n",
       "    </tr>\n",
       "    <tr>\n",
       "      <th>73</th>\n",
       "      <td>7001613274</td>\n",
       "      <td>228,161</td>\n",
       "      <td>6</td>\n",
       "      <td>38,027</td>\n",
       "      <td>1,000</td>\n",
       "      <td>Soft2bet_Cyprus</td>\n",
       "    </tr>\n",
       "    <tr>\n",
       "      <th>29</th>\n",
       "      <td>6943913199</td>\n",
       "      <td>183,300</td>\n",
       "      <td>11</td>\n",
       "      <td>16,664</td>\n",
       "      <td>1,200</td>\n",
       "      <td>Semrush</td>\n",
       "    </tr>\n",
       "    <tr>\n",
       "      <th>147</th>\n",
       "      <td>8310276089</td>\n",
       "      <td>144,963</td>\n",
       "      <td>6</td>\n",
       "      <td>24,160</td>\n",
       "      <td>700</td>\n",
       "      <td>Growe</td>\n",
       "    </tr>\n",
       "    <tr>\n",
       "      <th>25</th>\n",
       "      <td>6943872965</td>\n",
       "      <td>103,907</td>\n",
       "      <td>3</td>\n",
       "      <td>34,636</td>\n",
       "      <td>201</td>\n",
       "      <td>Azur Games</td>\n",
       "    </tr>\n",
       "    <tr>\n",
       "      <th>31</th>\n",
       "      <td>6943913410</td>\n",
       "      <td>91,584</td>\n",
       "      <td>6</td>\n",
       "      <td>15,264</td>\n",
       "      <td>5,000</td>\n",
       "      <td>Intetics</td>\n",
       "    </tr>\n",
       "    <tr>\n",
       "      <th>16</th>\n",
       "      <td>6943852261</td>\n",
       "      <td>87,353</td>\n",
       "      <td>7</td>\n",
       "      <td>12,479</td>\n",
       "      <td>500</td>\n",
       "      <td>SDV / Social Discovery Group</td>\n",
       "    </tr>\n",
       "    <tr>\n",
       "      <th>65</th>\n",
       "      <td>7000251103</td>\n",
       "      <td>77,923</td>\n",
       "      <td>1</td>\n",
       "      <td>77,923</td>\n",
       "      <td>10</td>\n",
       "      <td>Sbermegamarket</td>\n",
       "    </tr>\n",
       "    <tr>\n",
       "      <th>13</th>\n",
       "      <td>6943828193</td>\n",
       "      <td>77,494</td>\n",
       "      <td>5</td>\n",
       "      <td>15,499</td>\n",
       "      <td>300</td>\n",
       "      <td>LeverX</td>\n",
       "    </tr>\n",
       "  </tbody>\n",
       "</table>\n",
       "</div>"
      ],
      "text/plain": [
       "    Ass_Company_ID_1st Amount_in_company_currency                \n",
       "                                              sum count   mean   \n",
       "63          7000251093                    617,138    10 61,714  \\\n",
       "70          7001605834                    455,698    28 16,275   \n",
       "73          7001613274                    228,161     6 38,027   \n",
       "29          6943913199                    183,300    11 16,664   \n",
       "147         8310276089                    144,963     6 24,160   \n",
       "25          6943872965                    103,907     3 34,636   \n",
       "31          6943913410                     91,584     6 15,264   \n",
       "16          6943852261                     87,353     7 12,479   \n",
       "65          7000251103                     77,923     1 77,923   \n",
       "13          6943828193                     77,494     5 15,499   \n",
       "\n",
       "    int_Related_company_HC            Associated_Company  \n",
       "                  <lambda>                      <lambda>  \n",
       "63                   5,000                 Wargaming.net  \n",
       "70                     663                 Exness_Cyprus  \n",
       "73                   1,000               Soft2bet_Cyprus  \n",
       "29                   1,200                       Semrush  \n",
       "147                    700                         Growe  \n",
       "25                     201                    Azur Games  \n",
       "31                   5,000                      Intetics  \n",
       "16                     500  SDV / Social Discovery Group  \n",
       "65                      10                Sbermegamarket  \n",
       "13                     300                        LeverX  "
      ]
     },
     "execution_count": 253,
     "metadata": {},
     "output_type": "execute_result"
    }
   ],
   "source": [
    "#group by Company and sum up deal values\n",
    "Cos_w_2ndPlusDeals = secondplus_deals.groupby(\n",
    "                by = 'Ass_Company_ID_1st'\n",
    "                )\\\n",
    "                .agg(\n",
    "                    {'Amount_in_company_currency': ['sum', 'count', 'mean'],\\\n",
    "                    'int_Related_company_HC':lambda x: np.unique(x)[0],\n",
    "                    'Associated_Company':lambda x: str(np.unique(x)[0])}\n",
    "                    ).reset_index()\n",
    "\n",
    "#set display options\n",
    "pd.options.display.float_format = '{:,.0f}'.format\n",
    "\n",
    "Cos_w_2ndPlusDeals.sort_values(by = [('Amount_in_company_currency', 'sum')], ascending = False).head(10)"
   ]
  },
  {
   "cell_type": "code",
   "execution_count": 254,
   "id": "483c772c-1b04-4de3-aec7-9b523fa7793c",
   "metadata": {
    "tags": []
   },
   "outputs": [
    {
     "name": "stdout",
     "output_type": "stream",
     "text": [
      "Pearson corr Sum of exist customer deals per Co : 0.2054 deals on 163 companies\n"
     ]
    }
   ],
   "source": [
    "corr, _ = pearsonr(Cos_w_2ndPlusDeals[('Amount_in_company_currency', 'sum')],\n",
    "                   Cos_w_2ndPlusDeals[('int_Related_company_HC', '<lambda>')])\n",
    "\n",
    "print(f'Pearson corr Sum of exist customer deals per Co : {corr:.4f} deals on {Cos_w_2ndPlusDeals.shape[0]} companies')"
   ]
  },
  {
   "cell_type": "markdown",
   "id": "4b077d19-8021-444d-9c11-5e635a9efcfb",
   "metadata": {
    "tags": []
   },
   "source": [
    "There is a small positive correlation between total amount of repeted deals per company and the company size. How can we get more revenue from the repeted sales to one customer account?"
   ]
  },
  {
   "cell_type": "markdown",
   "id": "4de2d1d1-5040-431b-b7e5-455b31eec4cc",
   "metadata": {},
   "source": [
    "__Explore deals closed in 2023__ "
   ]
  },
  {
   "cell_type": "code",
   "execution_count": 257,
   "id": "43d53103-6383-4921-addf-3f357a2e9071",
   "metadata": {
    "tags": []
   },
   "outputs": [],
   "source": [
    "#get slice for the deals closed in 2023 \n",
    "closed_deals = deals[ deals.Deal_Stage.isin(['Closed won', 'Closed lost']) &\\\n",
    "                                         (deals.Close_Date < pd.to_datetime('2024-01-01')) ]"
   ]
  },
  {
   "cell_type": "code",
   "execution_count": 259,
   "id": "538686e1-9dd4-4be0-be72-8f3d4b2ea706",
   "metadata": {
    "tags": []
   },
   "outputs": [
    {
     "data": {
      "text/plain": [
       "(706, 13)"
      ]
     },
     "execution_count": 259,
     "metadata": {},
     "output_type": "execute_result"
    }
   ],
   "source": [
    "#closed_deals.info()\n",
    "closed_deals.shape"
   ]
  },
  {
   "cell_type": "code",
   "execution_count": 273,
   "id": "f457e6b9-1d10-47f3-82ea-9a0beee10b88",
   "metadata": {
    "tags": []
   },
   "outputs": [],
   "source": [
    "#1st and repeted deals apart\n",
    "closed_deals_1st = closed_deals.query('Deal_source != \"Existing customer\" and Pipeline != \"Customer Success\"')\n",
    "\n",
    "closed_deals_2ndPlus = closed_deals.query('Deal_source == \"Existing customer\"')"
   ]
  },
  {
   "cell_type": "code",
   "execution_count": 281,
   "id": "1d081cf2-6a98-479c-b5cc-bc8ea4b63db1",
   "metadata": {
    "tags": []
   },
   "outputs": [],
   "source": [
    "#closed_deals_1st.shape"
   ]
  },
  {
   "cell_type": "code",
   "execution_count": 282,
   "id": "4b4792a4-6b1b-4788-b657-1e0b3af4c0b3",
   "metadata": {
    "tags": []
   },
   "outputs": [],
   "source": [
    "#closed_deals_2ndPlus.shape"
   ]
  },
  {
   "cell_type": "markdown",
   "id": "adba67d5-2e7b-4075-960e-0a0b1dde2818",
   "metadata": {
    "tags": []
   },
   "source": [
    "__Winrates breakdown by deal source and Company HC__"
   ]
  },
  {
   "cell_type": "code",
   "execution_count": 264,
   "id": "ce269c07-3d3c-462d-98dc-732d825deb7d",
   "metadata": {
    "tags": []
   },
   "outputs": [],
   "source": [
    "#define winrate functions\n",
    "funcN = lambda x: (x == 'Closed won').sum()/x.count() # calc winrate for N of deals\n",
    "funcSum = lambda x: x[ closed_deals.Deal_Stage == 'Closed won' ].sum()/x.sum() #winrate for deal amount\n",
    "funcMeanWon = lambda x: x[ closed_deals.Deal_Stage == 'Closed won' ].mean()"
   ]
  },
  {
   "cell_type": "code",
   "execution_count": 283,
   "id": "15c92d50-84dc-4021-917b-50d689986ab2",
   "metadata": {
    "tags": []
   },
   "outputs": [
    {
     "data": {
      "text/html": [
       "<style type=\"text/css\">\n",
       "#T_afa0c_row0_col1, #T_afa0c_row0_col2 {\n",
       "  background-color: #008000;\n",
       "  color: #f1f1f1;\n",
       "}\n",
       "#T_afa0c_row1_col1, #T_afa0c_row5_col1 {\n",
       "  background-color: #61af61;\n",
       "  color: #f1f1f1;\n",
       "}\n",
       "#T_afa0c_row1_col2, #T_afa0c_row5_col2 {\n",
       "  background-color: #44a144;\n",
       "  color: #f1f1f1;\n",
       "}\n",
       "#T_afa0c_row2_col1 {\n",
       "  background-color: #95c995;\n",
       "  color: #000000;\n",
       "}\n",
       "#T_afa0c_row2_col2 {\n",
       "  background-color: #279327;\n",
       "  color: #f1f1f1;\n",
       "}\n",
       "#T_afa0c_row3_col1 {\n",
       "  background-color: #a7d2a7;\n",
       "  color: #000000;\n",
       "}\n",
       "#T_afa0c_row3_col2 {\n",
       "  background-color: #42a042;\n",
       "  color: #f1f1f1;\n",
       "}\n",
       "#T_afa0c_row4_col1, #T_afa0c_row4_col2 {\n",
       "  background-color: #ebf3eb;\n",
       "  color: #000000;\n",
       "}\n",
       "</style>\n",
       "<table id=\"T_afa0c\">\n",
       "  <thead>\n",
       "    <tr>\n",
       "      <th class=\"blank level0\" >&nbsp;</th>\n",
       "      <th id=\"T_afa0c_level0_col0\" class=\"col_heading level0 col0\" >Deal_source</th>\n",
       "      <th id=\"T_afa0c_level0_col1\" class=\"col_heading level0 col1\" >Winrate_N</th>\n",
       "      <th id=\"T_afa0c_level0_col2\" class=\"col_heading level0 col2\" >Winrate_Sum</th>\n",
       "      <th id=\"T_afa0c_level0_col3\" class=\"col_heading level0 col3\" >N_values</th>\n",
       "      <th id=\"T_afa0c_level0_col4\" class=\"col_heading level0 col4\" >Av_deal_cl</th>\n",
       "      <th id=\"T_afa0c_level0_col5\" class=\"col_heading level0 col5\" >Av_deal_Won</th>\n",
       "    </tr>\n",
       "  </thead>\n",
       "  <tbody>\n",
       "    <tr>\n",
       "      <th id=\"T_afa0c_level0_row0\" class=\"row_heading level0 row0\" >0</th>\n",
       "      <td id=\"T_afa0c_row0_col0\" class=\"data row0 col0\" >Existing customer</td>\n",
       "      <td id=\"T_afa0c_row0_col1\" class=\"data row0 col1\" >0.68</td>\n",
       "      <td id=\"T_afa0c_row0_col2\" class=\"data row0 col2\" >0.66</td>\n",
       "      <td id=\"T_afa0c_row0_col3\" class=\"data row0 col3\" >352</td>\n",
       "      <td id=\"T_afa0c_row0_col4\" class=\"data row0 col4\" >9697</td>\n",
       "      <td id=\"T_afa0c_row0_col5\" class=\"data row0 col5\" >9417</td>\n",
       "    </tr>\n",
       "    <tr>\n",
       "      <th id=\"T_afa0c_level0_row1\" class=\"row_heading level0 row1\" >1</th>\n",
       "      <td id=\"T_afa0c_row1_col0\" class=\"data row1 col0\" >Field/Offline event</td>\n",
       "      <td id=\"T_afa0c_row1_col1\" class=\"data row1 col1\" >0.50</td>\n",
       "      <td id=\"T_afa0c_row1_col2\" class=\"data row1 col2\" >0.55</td>\n",
       "      <td id=\"T_afa0c_row1_col3\" class=\"data row1 col3\" >50</td>\n",
       "      <td id=\"T_afa0c_row1_col4\" class=\"data row1 col4\" >7095</td>\n",
       "      <td id=\"T_afa0c_row1_col5\" class=\"data row1 col5\" >7776</td>\n",
       "    </tr>\n",
       "    <tr>\n",
       "      <th id=\"T_afa0c_level0_row2\" class=\"row_heading level0 row2\" >2</th>\n",
       "      <td id=\"T_afa0c_row2_col0\" class=\"data row2 col0\" >Inbound</td>\n",
       "      <td id=\"T_afa0c_row2_col1\" class=\"data row2 col1\" >0.40</td>\n",
       "      <td id=\"T_afa0c_row2_col2\" class=\"data row2 col2\" >0.60</td>\n",
       "      <td id=\"T_afa0c_row2_col3\" class=\"data row2 col3\" >142</td>\n",
       "      <td id=\"T_afa0c_row2_col4\" class=\"data row2 col4\" >7606</td>\n",
       "      <td id=\"T_afa0c_row2_col5\" class=\"data row2 col5\" >11301</td>\n",
       "    </tr>\n",
       "    <tr>\n",
       "      <th id=\"T_afa0c_level0_row3\" class=\"row_heading level0 row3\" >3</th>\n",
       "      <td id=\"T_afa0c_row3_col0\" class=\"data row3 col0\" >Other</td>\n",
       "      <td id=\"T_afa0c_row3_col1\" class=\"data row3 col1\" >0.37</td>\n",
       "      <td id=\"T_afa0c_row3_col2\" class=\"data row3 col2\" >0.55</td>\n",
       "      <td id=\"T_afa0c_row3_col3\" class=\"data row3 col3\" >41</td>\n",
       "      <td id=\"T_afa0c_row3_col4\" class=\"data row3 col4\" >15935</td>\n",
       "      <td id=\"T_afa0c_row3_col5\" class=\"data row3 col5\" >23962</td>\n",
       "    </tr>\n",
       "    <tr>\n",
       "      <th id=\"T_afa0c_level0_row4\" class=\"row_heading level0 row4\" >4</th>\n",
       "      <td id=\"T_afa0c_row4_col0\" class=\"data row4 col0\" >Outbound</td>\n",
       "      <td id=\"T_afa0c_row4_col1\" class=\"data row4 col1\" >0.24</td>\n",
       "      <td id=\"T_afa0c_row4_col2\" class=\"data row4 col2\" >0.27</td>\n",
       "      <td id=\"T_afa0c_row4_col3\" class=\"data row4 col3\" >117</td>\n",
       "      <td id=\"T_afa0c_row4_col4\" class=\"data row4 col4\" >10137</td>\n",
       "      <td id=\"T_afa0c_row4_col5\" class=\"data row4 col5\" >11387</td>\n",
       "    </tr>\n",
       "    <tr>\n",
       "      <th id=\"T_afa0c_level0_row5\" class=\"row_heading level0 row5\" >5</th>\n",
       "      <td id=\"T_afa0c_row5_col0\" class=\"data row5 col0\" >Partner referrals</td>\n",
       "      <td id=\"T_afa0c_row5_col1\" class=\"data row5 col1\" >0.50</td>\n",
       "      <td id=\"T_afa0c_row5_col2\" class=\"data row5 col2\" >0.55</td>\n",
       "      <td id=\"T_afa0c_row5_col3\" class=\"data row5 col3\" >4</td>\n",
       "      <td id=\"T_afa0c_row5_col4\" class=\"data row5 col4\" >3038</td>\n",
       "      <td id=\"T_afa0c_row5_col5\" class=\"data row5 col5\" >3325</td>\n",
       "    </tr>\n",
       "  </tbody>\n",
       "</table>\n"
      ],
      "text/plain": [
       "<pandas.io.formats.style.Styler at 0x10bb582d0>"
      ]
     },
     "execution_count": 283,
     "metadata": {},
     "output_type": "execute_result"
    }
   ],
   "source": [
    "#Winrates by the deal source\n",
    "cl_deals_gr3 = closed_deals.groupby(by = [ 'Deal_source'])\\\n",
    "                                .agg( Winrate_N = ('Deal_Stage', funcN ),\n",
    "                                      Winrate_Sum = ('Amount_in_company_currency', funcSum ),\n",
    "                                      N_values = ('Deal_Stage', 'count' ),\n",
    "                                      Av_deal_cl = ('Amount_in_company_currency', 'mean' ),\n",
    "                                      Av_deal_Won = ('Amount_in_company_currency', funcMeanWon )\n",
    "                                     )\\\n",
    "                                .reset_index()\n",
    "\n",
    "\n",
    "cl_deals_gr3.N_values.astype(int)\n",
    "\n",
    "#proper display w heatmap stile formatting\n",
    "cm = sns.light_palette(\"green\", as_cmap = True)\n",
    "\n",
    "cl_deals_gr3.style.format('{:.2f}', subset = ['Winrate_N','Winrate_Sum'])\\\n",
    "                   .format('{:.0f}', subset = ['Av_deal_cl', 'Av_deal_Won'])\\\n",
    "                   .background_gradient(cm, subset = ['Winrate_N','Winrate_Sum'])\n",
    "#cl_deals_gr1"
   ]
  },
  {
   "cell_type": "markdown",
   "id": "209cf477-f1bb-4b4c-8779-46b037dbe473",
   "metadata": {
    "tags": []
   },
   "source": [
    "It is to no surprise that:\n",
    "- the repeated deals have better winrates overall compared to the 1st deals\n",
    "- inbound deals have roughly x2 winrates as oubount"
   ]
  },
  {
   "cell_type": "code",
   "execution_count": 278,
   "id": "52776cea-8453-4294-9b09-432c4608a929",
   "metadata": {
    "tags": []
   },
   "outputs": [
    {
     "data": {
      "text/html": [
       "<style type=\"text/css\">\n",
       "#T_9f49f_row0_col1, #T_9f49f_row0_col2 {\n",
       "  background-color: #008000;\n",
       "  color: #f1f1f1;\n",
       "}\n",
       "#T_9f49f_row1_col1 {\n",
       "  background-color: #7abc7a;\n",
       "  color: #000000;\n",
       "}\n",
       "#T_9f49f_row1_col2, #T_9f49f_row2_col1 {\n",
       "  background-color: #ebf3eb;\n",
       "  color: #000000;\n",
       "}\n",
       "#T_9f49f_row2_col2 {\n",
       "  background-color: #5aac5a;\n",
       "  color: #f1f1f1;\n",
       "}\n",
       "</style>\n",
       "<table id=\"T_9f49f\">\n",
       "  <thead>\n",
       "    <tr>\n",
       "      <th class=\"blank level0\" >&nbsp;</th>\n",
       "      <th id=\"T_9f49f_level0_col0\" class=\"col_heading level0 col0\" >int_Related_company_HC</th>\n",
       "      <th id=\"T_9f49f_level0_col1\" class=\"col_heading level0 col1\" >Winrate_N</th>\n",
       "      <th id=\"T_9f49f_level0_col2\" class=\"col_heading level0 col2\" >Winrate_Sum</th>\n",
       "      <th id=\"T_9f49f_level0_col3\" class=\"col_heading level0 col3\" >N_deals_closed</th>\n",
       "      <th id=\"T_9f49f_level0_col4\" class=\"col_heading level0 col4\" >Av_deal_closed</th>\n",
       "      <th id=\"T_9f49f_level0_col5\" class=\"col_heading level0 col5\" >Av_deal_Won</th>\n",
       "    </tr>\n",
       "  </thead>\n",
       "  <tbody>\n",
       "    <tr>\n",
       "      <th id=\"T_9f49f_level0_row0\" class=\"row_heading level0 row0\" >0</th>\n",
       "      <td id=\"T_9f49f_row0_col0\" class=\"data row0 col0\" >[0.0, 201.0)</td>\n",
       "      <td id=\"T_9f49f_row0_col1\" class=\"data row0 col1\" >0.43</td>\n",
       "      <td id=\"T_9f49f_row0_col2\" class=\"data row0 col2\" >0.54</td>\n",
       "      <td id=\"T_9f49f_row0_col3\" class=\"data row0 col3\" >201</td>\n",
       "      <td id=\"T_9f49f_row0_col4\" class=\"data row0 col4\" >5854</td>\n",
       "      <td id=\"T_9f49f_row0_col5\" class=\"data row0 col5\" >7319</td>\n",
       "    </tr>\n",
       "    <tr>\n",
       "      <th id=\"T_9f49f_level0_row1\" class=\"row_heading level0 row1\" >1</th>\n",
       "      <td id=\"T_9f49f_row1_col0\" class=\"data row1 col0\" >[201.0, 901.0)</td>\n",
       "      <td id=\"T_9f49f_row1_col1\" class=\"data row1 col1\" >0.30</td>\n",
       "      <td id=\"T_9f49f_row1_col2\" class=\"data row1 col2\" >0.38</td>\n",
       "      <td id=\"T_9f49f_row1_col3\" class=\"data row1 col3\" >103</td>\n",
       "      <td id=\"T_9f49f_row1_col4\" class=\"data row1 col4\" >12609</td>\n",
       "      <td id=\"T_9f49f_row1_col5\" class=\"data row1 col5\" >16048</td>\n",
       "    </tr>\n",
       "    <tr>\n",
       "      <th id=\"T_9f49f_level0_row2\" class=\"row_heading level0 row2\" >2</th>\n",
       "      <td id=\"T_9f49f_row2_col0\" class=\"data row2 col0\" >[901.0, inf)</td>\n",
       "      <td id=\"T_9f49f_row2_col1\" class=\"data row2 col1\" >0.18</td>\n",
       "      <td id=\"T_9f49f_row2_col2\" class=\"data row2 col2\" >0.48</td>\n",
       "      <td id=\"T_9f49f_row2_col3\" class=\"data row2 col3\" >50</td>\n",
       "      <td id=\"T_9f49f_row2_col4\" class=\"data row2 col4\" >16216</td>\n",
       "      <td id=\"T_9f49f_row2_col5\" class=\"data row2 col5\" >43252</td>\n",
       "    </tr>\n",
       "  </tbody>\n",
       "</table>\n"
      ],
      "text/plain": [
       "<pandas.io.formats.style.Styler at 0x10b975010>"
      ]
     },
     "execution_count": 278,
     "metadata": {},
     "output_type": "execute_result"
    }
   ],
   "source": [
    "#breakdown 1st deal winrates between company sizes\n",
    "\n",
    "cl_deals_gr1 = closed_deals_1st.groupby(by = [ #'Deal_source',\\\n",
    "                             pd.cut( closed_deals.int_Related_company_HC, [0, 201, 901, float(\"inf\")], right = False ) \n",
    "                                     ])\\\n",
    "                                .agg( Winrate_N = ('Deal_Stage', funcN ),\n",
    "                                      Winrate_Sum = ('Amount_in_company_currency', funcSum ),\n",
    "                                      N_deals_closed = ('Deal_Stage', 'count' ),\n",
    "                                      Av_deal_closed = ('Amount_in_company_currency', 'mean' ),\n",
    "                                      Av_deal_Won = ('Amount_in_company_currency', funcMeanWon )\n",
    "                                     )\\\n",
    "                                .reset_index()\n",
    "\n",
    "\n",
    "#cl_deals_gr1.N_values.astype(int)\n",
    "\n",
    "#proper display w heatmap stile formatting\n",
    "cm = sns.light_palette(\"green\", as_cmap = True)\n",
    "\n",
    "cl_deals_gr1.style.format('{:.2f}', subset = ['Winrate_N','Winrate_Sum'])\\\n",
    "                   .format('{:.0f}', subset = ['Av_deal_closed', 'Av_deal_Won'])\\\n",
    "                   .background_gradient(cm, subset = ['Winrate_N','Winrate_Sum'])\n",
    "\n",
    "#cl_deals_gr1.to_clipboard()"
   ]
  },
  {
   "cell_type": "code",
   "execution_count": 280,
   "id": "e7accedc-f416-489b-bdd4-95cfc4b823dd",
   "metadata": {
    "tags": []
   },
   "outputs": [
    {
     "data": {
      "text/html": [
       "<style type=\"text/css\">\n",
       "#T_6786a_row0_col1 {\n",
       "  background-color: #57ab57;\n",
       "  color: #f1f1f1;\n",
       "}\n",
       "#T_6786a_row0_col2 {\n",
       "  background-color: #72b872;\n",
       "  color: #f1f1f1;\n",
       "}\n",
       "#T_6786a_row1_col1 {\n",
       "  background-color: #a4d0a4;\n",
       "  color: #000000;\n",
       "}\n",
       "#T_6786a_row1_col2 {\n",
       "  background-color: #028102;\n",
       "  color: #f1f1f1;\n",
       "}\n",
       "#T_6786a_row2_col1, #T_6786a_row8_col2, #T_6786a_row9_col1 {\n",
       "  background-color: #008000;\n",
       "  color: #f1f1f1;\n",
       "}\n",
       "#T_6786a_row2_col2 {\n",
       "  background-color: #5cad5c;\n",
       "  color: #f1f1f1;\n",
       "}\n",
       "#T_6786a_row3_col1, #T_6786a_row7_col2 {\n",
       "  background-color: #ebf3eb;\n",
       "  color: #000000;\n",
       "}\n",
       "#T_6786a_row3_col2 {\n",
       "  background-color: #e5f0e5;\n",
       "  color: #000000;\n",
       "}\n",
       "#T_6786a_row4_col1, #T_6786a_row7_col1 {\n",
       "  background-color: #4aa44a;\n",
       "  color: #f1f1f1;\n",
       "}\n",
       "#T_6786a_row4_col2 {\n",
       "  background-color: #5fae5f;\n",
       "  color: #f1f1f1;\n",
       "}\n",
       "#T_6786a_row5_col1 {\n",
       "  background-color: #acd4ac;\n",
       "  color: #000000;\n",
       "}\n",
       "#T_6786a_row5_col2 {\n",
       "  background-color: #42a042;\n",
       "  color: #f1f1f1;\n",
       "}\n",
       "#T_6786a_row6_col1 {\n",
       "  background-color: #8ec58e;\n",
       "  color: #000000;\n",
       "}\n",
       "#T_6786a_row6_col2 {\n",
       "  background-color: #249224;\n",
       "  color: #f1f1f1;\n",
       "}\n",
       "#T_6786a_row8_col1 {\n",
       "  background-color: #deedde;\n",
       "  color: #000000;\n",
       "}\n",
       "#T_6786a_row9_col2 {\n",
       "  background-color: #4ba54a;\n",
       "  color: #f1f1f1;\n",
       "}\n",
       "</style>\n",
       "<table id=\"T_6786a\">\n",
       "  <thead>\n",
       "    <tr>\n",
       "      <th class=\"blank level0\" >&nbsp;</th>\n",
       "      <th id=\"T_6786a_level0_col0\" class=\"col_heading level0 col0\" >int_Related_company_Industry</th>\n",
       "      <th id=\"T_6786a_level0_col1\" class=\"col_heading level0 col1\" >Winrate_N</th>\n",
       "      <th id=\"T_6786a_level0_col2\" class=\"col_heading level0 col2\" >Winrate_Sum</th>\n",
       "      <th id=\"T_6786a_level0_col3\" class=\"col_heading level0 col3\" >N_deals_closed</th>\n",
       "      <th id=\"T_6786a_level0_col4\" class=\"col_heading level0 col4\" >Av_deal_closed</th>\n",
       "      <th id=\"T_6786a_level0_col5\" class=\"col_heading level0 col5\" >Av_deal_Won</th>\n",
       "    </tr>\n",
       "  </thead>\n",
       "  <tbody>\n",
       "    <tr>\n",
       "      <th id=\"T_6786a_level0_row0\" class=\"row_heading level0 row0\" >0</th>\n",
       "      <td id=\"T_6786a_row0_col0\" class=\"data row0 col0\" >INFORMATION_TECHNOLOGY_AND_SERVICES</td>\n",
       "      <td id=\"T_6786a_row0_col1\" class=\"data row0 col1\" >0.38</td>\n",
       "      <td id=\"T_6786a_row0_col2\" class=\"data row0 col2\" >0.37</td>\n",
       "      <td id=\"T_6786a_row0_col3\" class=\"data row0 col3\" >97</td>\n",
       "      <td id=\"T_6786a_row0_col4\" class=\"data row0 col4\" >8030</td>\n",
       "      <td id=\"T_6786a_row0_col5\" class=\"data row0 col5\" >7841</td>\n",
       "    </tr>\n",
       "    <tr>\n",
       "      <th id=\"T_6786a_level0_row1\" class=\"row_heading level0 row1\" >1</th>\n",
       "      <td id=\"T_6786a_row1_col0\" class=\"data row1 col0\" >COMPUTER_SOFTWARE</td>\n",
       "      <td id=\"T_6786a_row1_col1\" class=\"data row1 col1\" >0.28</td>\n",
       "      <td id=\"T_6786a_row1_col2\" class=\"data row1 col2\" >0.62</td>\n",
       "      <td id=\"T_6786a_row1_col3\" class=\"data row1 col3\" >72</td>\n",
       "      <td id=\"T_6786a_row1_col4\" class=\"data row1 col4\" >14178</td>\n",
       "      <td id=\"T_6786a_row1_col5\" class=\"data row1 col5\" >31854</td>\n",
       "    </tr>\n",
       "    <tr>\n",
       "      <th id=\"T_6786a_level0_row2\" class=\"row_heading level0 row2\" >2</th>\n",
       "      <td id=\"T_6786a_row2_col0\" class=\"data row2 col0\" >nan</td>\n",
       "      <td id=\"T_6786a_row2_col1\" class=\"data row2 col1\" >0.50</td>\n",
       "      <td id=\"T_6786a_row2_col2\" class=\"data row2 col2\" >0.42</td>\n",
       "      <td id=\"T_6786a_row2_col3\" class=\"data row2 col3\" >62</td>\n",
       "      <td id=\"T_6786a_row2_col4\" class=\"data row2 col4\" >11710</td>\n",
       "      <td id=\"T_6786a_row2_col5\" class=\"data row2 col5\" >9886</td>\n",
       "    </tr>\n",
       "    <tr>\n",
       "      <th id=\"T_6786a_level0_row3\" class=\"row_heading level0 row3\" >3</th>\n",
       "      <td id=\"T_6786a_row3_col0\" class=\"data row3 col0\" >FINANCIAL_SERVICES</td>\n",
       "      <td id=\"T_6786a_row3_col1\" class=\"data row3 col1\" >0.18</td>\n",
       "      <td id=\"T_6786a_row3_col2\" class=\"data row3 col2\" >0.11</td>\n",
       "      <td id=\"T_6786a_row3_col3\" class=\"data row3 col3\" >22</td>\n",
       "      <td id=\"T_6786a_row3_col4\" class=\"data row3 col4\" >5904</td>\n",
       "      <td id=\"T_6786a_row3_col5\" class=\"data row3 col5\" >3726</td>\n",
       "    </tr>\n",
       "    <tr>\n",
       "      <th id=\"T_6786a_level0_row4\" class=\"row_heading level0 row4\" >4</th>\n",
       "      <td id=\"T_6786a_row4_col0\" class=\"data row4 col0\" >COMPUTER_GAMES</td>\n",
       "      <td id=\"T_6786a_row4_col1\" class=\"data row4 col1\" >0.40</td>\n",
       "      <td id=\"T_6786a_row4_col2\" class=\"data row4 col2\" >0.42</td>\n",
       "      <td id=\"T_6786a_row4_col3\" class=\"data row4 col3\" >20</td>\n",
       "      <td id=\"T_6786a_row4_col4\" class=\"data row4 col4\" >7222</td>\n",
       "      <td id=\"T_6786a_row4_col5\" class=\"data row4 col5\" >7516</td>\n",
       "    </tr>\n",
       "    <tr>\n",
       "      <th id=\"T_6786a_level0_row5\" class=\"row_heading level0 row5\" >5</th>\n",
       "      <td id=\"T_6786a_row5_col0\" class=\"data row5 col0\" >GAMBLING_CASINOS</td>\n",
       "      <td id=\"T_6786a_row5_col1\" class=\"data row5 col1\" >0.27</td>\n",
       "      <td id=\"T_6786a_row5_col2\" class=\"data row5 col2\" >0.48</td>\n",
       "      <td id=\"T_6786a_row5_col3\" class=\"data row5 col3\" >15</td>\n",
       "      <td id=\"T_6786a_row5_col4\" class=\"data row5 col4\" >6637</td>\n",
       "      <td id=\"T_6786a_row5_col5\" class=\"data row5 col5\" >11925</td>\n",
       "    </tr>\n",
       "    <tr>\n",
       "      <th id=\"T_6786a_level0_row6\" class=\"row_heading level0 row6\" >6</th>\n",
       "      <td id=\"T_6786a_row6_col0\" class=\"data row6 col0\" >MARKETING_AND_ADVERTISING</td>\n",
       "      <td id=\"T_6786a_row6_col1\" class=\"data row6 col1\" >0.31</td>\n",
       "      <td id=\"T_6786a_row6_col2\" class=\"data row6 col2\" >0.55</td>\n",
       "      <td id=\"T_6786a_row6_col3\" class=\"data row6 col3\" >13</td>\n",
       "      <td id=\"T_6786a_row6_col4\" class=\"data row6 col4\" >4203</td>\n",
       "      <td id=\"T_6786a_row6_col5\" class=\"data row6 col5\" >7474</td>\n",
       "    </tr>\n",
       "    <tr>\n",
       "      <th id=\"T_6786a_level0_row7\" class=\"row_heading level0 row7\" >7</th>\n",
       "      <td id=\"T_6786a_row7_col0\" class=\"data row7 col0\" >BANKING</td>\n",
       "      <td id=\"T_6786a_row7_col1\" class=\"data row7 col1\" >0.40</td>\n",
       "      <td id=\"T_6786a_row7_col2\" class=\"data row7 col2\" >0.10</td>\n",
       "      <td id=\"T_6786a_row7_col3\" class=\"data row7 col3\" >5</td>\n",
       "      <td id=\"T_6786a_row7_col4\" class=\"data row7 col4\" >13943</td>\n",
       "      <td id=\"T_6786a_row7_col5\" class=\"data row7 col5\" >3542</td>\n",
       "    </tr>\n",
       "    <tr>\n",
       "      <th id=\"T_6786a_level0_row8\" class=\"row_heading level0 row8\" >8</th>\n",
       "      <td id=\"T_6786a_row8_col0\" class=\"data row8 col0\" >INFORMATION_SERVICES</td>\n",
       "      <td id=\"T_6786a_row8_col1\" class=\"data row8 col1\" >0.20</td>\n",
       "      <td id=\"T_6786a_row8_col2\" class=\"data row8 col2\" >0.63</td>\n",
       "      <td id=\"T_6786a_row8_col3\" class=\"data row8 col3\" >5</td>\n",
       "      <td id=\"T_6786a_row8_col4\" class=\"data row8 col4\" >5428</td>\n",
       "      <td id=\"T_6786a_row8_col5\" class=\"data row8 col5\" >17088</td>\n",
       "    </tr>\n",
       "    <tr>\n",
       "      <th id=\"T_6786a_level0_row9\" class=\"row_heading level0 row9\" >9</th>\n",
       "      <td id=\"T_6786a_row9_col0\" class=\"data row9 col0\" >LEISURE_TRAVEL_TOURISM</td>\n",
       "      <td id=\"T_6786a_row9_col1\" class=\"data row9 col1\" >0.50</td>\n",
       "      <td id=\"T_6786a_row9_col2\" class=\"data row9 col2\" >0.46</td>\n",
       "      <td id=\"T_6786a_row9_col3\" class=\"data row9 col3\" >4</td>\n",
       "      <td id=\"T_6786a_row9_col4\" class=\"data row9 col4\" >2833</td>\n",
       "      <td id=\"T_6786a_row9_col5\" class=\"data row9 col5\" >2612</td>\n",
       "    </tr>\n",
       "  </tbody>\n",
       "</table>\n"
      ],
      "text/plain": [
       "<pandas.io.formats.style.Styler at 0x15fa14d90>"
      ]
     },
     "execution_count": 280,
     "metadata": {},
     "output_type": "execute_result"
    }
   ],
   "source": [
    "#get basic stats for Close rates per indusrty\n",
    "\n",
    "cl_deals_gr4 = closed_deals_1st.groupby([ 'int_Related_company_Industry',\\\n",
    "                          #pd.cut( closed_deals.int_Related_company_HC, [0, 201, float(\"inf\")], right = False ) \n",
    "                          ], dropna=False)\\\n",
    "                                .agg( Winrate_N = ('Deal_Stage', funcN ),\n",
    "                                      Winrate_Sum = ('Amount_in_company_currency', funcSum ),\n",
    "                                      N_deals_closed = ('Deal_Stage', 'count' ),\n",
    "                                      Av_deal_closed = ('Amount_in_company_currency', 'mean' ),\n",
    "                                      Av_deal_Won = ('Amount_in_company_currency', funcMeanWon )\n",
    "                                     )\\\n",
    "                                .sort_values(['N_deals_closed'], ascending = False)\\\n",
    "                                .reset_index()\n",
    "\n",
    "\n",
    "#cl_deals_gr1.N_values.astype(int)\n",
    "\n",
    "cm = sns.light_palette(\"green\", as_cmap = True)\n",
    "\n",
    "cl_deals_gr4.head(10).style.format('{:.2f}', subset = ['Winrate_N','Winrate_Sum'])\\\n",
    "                   .format('{:.0f}', subset = ['Av_deal_closed', 'Av_deal_Won'])\\\n",
    "                   .background_gradient(cm, subset = ['Winrate_N','Winrate_Sum'])\\\n",
    "\n",
    "#cl_deals_gr4.to_clipboard()"
   ]
  },
  {
   "cell_type": "markdown",
   "id": "cef911f3-5338-47b8-99ba-d79fc9a2682f",
   "metadata": {
    "tags": []
   },
   "source": [
    "__Key takeaways:__"
   ]
  },
  {
   "cell_type": "code",
   "execution_count": null,
   "id": "3eb4fbdb-3d8d-4ddb-ac8e-be220c3499d3",
   "metadata": {},
   "outputs": [],
   "source": []
  }
 ],
 "metadata": {
  "kernelspec": {
   "display_name": "Python 3 (ipykernel)",
   "language": "python",
   "name": "python3"
  },
  "language_info": {
   "codemirror_mode": {
    "name": "ipython",
    "version": 3
   },
   "file_extension": ".py",
   "mimetype": "text/x-python",
   "name": "python",
   "nbconvert_exporter": "python",
   "pygments_lexer": "ipython3",
   "version": "3.11.2"
  }
 },
 "nbformat": 4,
 "nbformat_minor": 5
}
